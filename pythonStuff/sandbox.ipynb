{
 "cells": [
  {
   "cell_type": "code",
   "execution_count": null,
   "metadata": {},
   "outputs": [],
   "source": [
    "import os\n",
    "import sys\n",
    "import cv2\n",
    "import matplotlib.pyplot as plt\n",
    "import numpy as np"
   ]
  },
  {
   "cell_type": "code",
   "execution_count": null,
   "metadata": {},
   "outputs": [],
   "source": [
    "current_dir = os.getcwd()\n",
    "\n",
    "# Append the relative path to the \"bp_research\" folder\n",
    "bp_research_path = os.path.join(current_dir, '..', 'bp_research')\n",
    "\n",
    "sys.path.append(bp_research_path)\n",
    "# sys.path.pop(-1)\n",
    "sys.path"
   ]
  },
  {
   "cell_type": "code",
   "execution_count": null,
   "metadata": {},
   "outputs": [],
   "source": [
    "from LandmarkTester import LandmarkTester\n",
    "from ProcessResults import *\n",
    "from GetLandmarks import GetLandmarks \n",
    "from landmark_utils import *"
   ]
  },
  {
   "cell_type": "code",
   "execution_count": null,
   "metadata": {},
   "outputs": [],
   "source": [
    "cap = cv2.VideoCapture(\"C:\\\\Users\\\\nwjoh\\\\AppData\\\\Local\\\\Temp\\\\tmpzdws11by.mov\")\n",
    "print(\"Starting\")\n",
    "frame_width = int(cap.get(3))\n",
    "frame_height = int(cap.get(4))\n",
    "frame_size = (frame_width, frame_height)\n",
    "fps = 20\n",
    "fourcc = cv2.VideoWriter_fourcc(*'mp4v')\n",
    "output = cv2.VideoWriter('plottedVid.mov', fourcc, 20, frame_size)\n",
    "\n",
    "i = 0\n",
    "while True:\n",
    "    i = i + 1\n",
    "    print(\"Frame: \" + str(i) + \"/78\")\n",
    "    ret, frame = cap.read()\n",
    "    if not ret:\n",
    "        break\n",
    "    lmkT = LandmarkTester(frame)\n",
    "    new_frame = vis_landmarks(np.flip(frame,-1), lmkT._og_landmarks)\n",
    "    resized_frame = cv2.resize(new_frame, frame_size)\n",
    "    output.write(resized_frame)\n",
    "    if cv2.waitKey(1) & 0xFF == ord('q'):\n",
    "        break\n",
    "\n",
    "cap.release()\n",
    "output.release()\n",
    "cv2.destroyAllWindows()\n"
   ]
  },
  {
   "cell_type": "code",
   "execution_count": null,
   "metadata": {},
   "outputs": [],
   "source": [
    "# import os\n",
    "\n",
    "# os.curdir\n",
    "# os.path.abspath('.')"
   ]
  },
  {
   "cell_type": "code",
   "execution_count": null,
   "metadata": {},
   "outputs": [],
   "source": [
    "# import sys\n",
    "# import os\n",
    "\n",
    "# sys.path.append(\"../Emotrics/ProcessLandmarks.py\")\n",
    "# os.path.abspath(os.path.join('src'))\n",
    "\n",
    "# from ProcessLandmarks import GetLandmarks\n",
    "# import matplotlib.pyplot as plt\n",
    "# import numpy as np\n",
    "# import cv2\n",
    "\n",
    "\n",
    "# img = cv2.imread(\"C:/Users/nwjoh/testing1/app/assets/images/ye_face.jpg\")\n",
    "# GetLandmarks(img, \"MEEI\")"
   ]
  },
  {
   "cell_type": "code",
   "execution_count": null,
   "metadata": {},
   "outputs": [],
   "source": [
    "# from Emotrics.ProcessLandmarks import GetLandmarks\n"
   ]
  }
 ],
 "metadata": {
  "kernelspec": {
   "display_name": "Python 3",
   "language": "python",
   "name": "python3"
  },
  "language_info": {
   "codemirror_mode": {
    "name": "ipython",
    "version": 3
   },
   "file_extension": ".py",
   "mimetype": "text/x-python",
   "name": "python",
   "nbconvert_exporter": "python",
   "pygments_lexer": "ipython3",
   "version": "3.11.3"
  },
  "orig_nbformat": 4
 },
 "nbformat": 4,
 "nbformat_minor": 2
}
